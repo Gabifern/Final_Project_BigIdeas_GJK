{
 "cells": [
  {
   "cell_type": "markdown",
   "id": "ab229fae",
   "metadata": {},
   "source": [
    "Introduction: Introduce the project, and your approach, talk about the process of how you came up with the metric and some alternatives you may have explored."
   ]
  },
  {
   "cell_type": "markdown",
   "id": "1618b513",
   "metadata": {},
   "source": [
    "The Metric: Describe your metric, and what features are you measuring. What datasets are you using?"
   ]
  },
  {
   "cell_type": "markdown",
   "id": "33f51890",
   "metadata": {},
   "source": [
    "The Best Neighborhood: Apply the metric from the previous section to determine the best neighborhood in Pittsburgh. Beyond just executing code, provide a narrative about why you think this is the best neighborhood. Incorporate a data visualization, perhaps to rank all of the neighborhoods or show a neighborhood’s best-ness over time. The key is to make a data driven argument."
   ]
  },
  {
   "cell_type": "markdown",
   "id": "b4a31719",
   "metadata": {},
   "source": [
    "Conclusion: Reflect on how the data-driven determination of “best neighborhood” is the same or different from your personal favorite neighborhood. Each member of the group should write their own response to this."
   ]
  }
 ],
 "metadata": {
  "language_info": {
   "name": "python"
  }
 },
 "nbformat": 4,
 "nbformat_minor": 5
}
