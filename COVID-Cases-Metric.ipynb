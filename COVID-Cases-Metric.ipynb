{
 "cells": [
  {
   "cell_type": "markdown",
   "id": "51b60262",
   "metadata": {},
   "source": [
    "Dataset: Allegheny County COVID-19 Tests, Cases and Deaths\n",
    "\n",
    "The specific data information I used was Allegheny County COVID-19 Monthly Counts to get access to information on monthly community statistics including tests, cases, hospitalizations, and deaths. This information set had data for neighborhood specific cases so it was a good indicator of which neighborhoods had more COVID cases and which ones had less. \n",
    "\n",
    "Team Member: Gabi Fernandes\n",
    "\n",
    "Link: https://data.wprdc.org/dataset/allegheny-county-covid-19-tests-cases-and-deaths"
   ]
  },
  {
   "cell_type": "code",
   "execution_count": 1,
   "id": "eb4d98c5",
   "metadata": {},
   "outputs": [],
   "source": [
    "import pandas\n",
    "import matplotlib"
   ]
  },
  {
   "cell_type": "code",
   "execution_count": null,
   "id": "533951ff",
   "metadata": {},
   "outputs": [],
   "source": []
  }
 ],
 "metadata": {
  "kernelspec": {
   "display_name": "Python (rec05)",
   "language": "python",
   "name": "rec05"
  },
  "language_info": {
   "codemirror_mode": {
    "name": "ipython",
    "version": 3
   },
   "file_extension": ".py",
   "mimetype": "text/x-python",
   "name": "python",
   "nbconvert_exporter": "python",
   "pygments_lexer": "ipython3",
   "version": "3.11.13"
  }
 },
 "nbformat": 4,
 "nbformat_minor": 5
}
