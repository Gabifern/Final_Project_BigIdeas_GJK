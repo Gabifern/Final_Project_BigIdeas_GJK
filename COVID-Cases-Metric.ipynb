{
 "cells": [
  {
   "cell_type": "markdown",
   "id": "51b60262",
   "metadata": {},
   "source": [
    "Dataset: Allegheny County COVID-19 Tests, Cases and Deaths\n",
    "\n",
    "Team Member: Gabi Fernandes\n",
    "\n",
    "Link: https://data.wprdc.org/dataset/allegheny-county-covid-19-tests-cases-and-deaths"
   ]
  }
 ],
 "metadata": {
  "language_info": {
   "name": "python"
  }
 },
 "nbformat": 4,
 "nbformat_minor": 5
}
